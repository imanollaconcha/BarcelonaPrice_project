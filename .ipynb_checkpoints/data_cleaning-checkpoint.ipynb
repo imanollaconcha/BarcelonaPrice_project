{
 "cells": [
  {
   "cell_type": "markdown",
   "id": "sound-peoples",
   "metadata": {},
   "source": [
    "# Data cleaning"
   ]
  },
  {
   "cell_type": "markdown",
   "id": "brazilian-elder",
   "metadata": {
    "heading_collapsed": true
   },
   "source": [
    "## 1.Importing libraries and data."
   ]
  },
  {
   "cell_type": "code",
   "execution_count": 2,
   "id": "understanding-spencer",
   "metadata": {
    "hidden": true
   },
   "outputs": [],
   "source": [
    "import pandas as pd\n",
    "import re\n",
    "import numpy as np"
   ]
  },
  {
   "cell_type": "code",
   "execution_count": 3,
   "id": "rough-hurricane",
   "metadata": {
    "hidden": true
   },
   "outputs": [],
   "source": [
    "fotocasa = pd.read_csv('csv/fotocasa.csv')"
   ]
  },
  {
   "cell_type": "code",
   "execution_count": 4,
   "id": "criminal-accuracy",
   "metadata": {
    "hidden": true
   },
   "outputs": [
    {
     "data": {
      "text/html": [
       "<div>\n",
       "<style scoped>\n",
       "    .dataframe tbody tr th:only-of-type {\n",
       "        vertical-align: middle;\n",
       "    }\n",
       "\n",
       "    .dataframe tbody tr th {\n",
       "        vertical-align: top;\n",
       "    }\n",
       "\n",
       "    .dataframe thead th {\n",
       "        text-align: right;\n",
       "    }\n",
       "</style>\n",
       "<table border=\"1\" class=\"dataframe\">\n",
       "  <thead>\n",
       "    <tr style=\"text-align: right;\">\n",
       "      <th></th>\n",
       "      <th>Unnamed: 0</th>\n",
       "      <th>description</th>\n",
       "      <th>address</th>\n",
       "      <th>price</th>\n",
       "    </tr>\n",
       "  </thead>\n",
       "  <tbody>\n",
       "    <tr>\n",
       "      <th>0</th>\n",
       "      <td>0</td>\n",
       "      <td>3 habs.1 baño60 m²con ascensor</td>\n",
       "      <td>PisoHorta - Guinardóahora</td>\n",
       "      <td>750 € /mes</td>\n",
       "    </tr>\n",
       "    <tr>\n",
       "      <th>1</th>\n",
       "      <td>1</td>\n",
       "      <td>2 habs.1 baño59 m²con ascensor</td>\n",
       "      <td>PisoCarrer del Cardenal Tedeschini, Sant Andre...</td>\n",
       "      <td>770 € /mes</td>\n",
       "    </tr>\n",
       "    <tr>\n",
       "      <th>2</th>\n",
       "      <td>2</td>\n",
       "      <td>1 hab.1 baño30 m²con ascensor y terraza</td>\n",
       "      <td>PisoCarrer del Pare Laínez, Gràciaahora</td>\n",
       "      <td>1.300 € /mes</td>\n",
       "    </tr>\n",
       "    <tr>\n",
       "      <th>3</th>\n",
       "      <td>3</td>\n",
       "      <td>1 hab.1 baño70 m²con ascensor y terraza</td>\n",
       "      <td>PisoPasseig D'isabel II, 2, Barcelona, España,...</td>\n",
       "      <td>2.800 € /mes</td>\n",
       "    </tr>\n",
       "    <tr>\n",
       "      <th>4</th>\n",
       "      <td>4</td>\n",
       "      <td>2 habs.1 baño44 m²con ascensor</td>\n",
       "      <td>PisoCarrer de Cienfuegos, Sant Andreuahora</td>\n",
       "      <td>720 € /mes</td>\n",
       "    </tr>\n",
       "  </tbody>\n",
       "</table>\n",
       "</div>"
      ],
      "text/plain": [
       "   Unnamed: 0                              description  \\\n",
       "0           0           3 habs.1 baño60 m²con ascensor   \n",
       "1           1           2 habs.1 baño59 m²con ascensor   \n",
       "2           2  1 hab.1 baño30 m²con ascensor y terraza   \n",
       "3           3  1 hab.1 baño70 m²con ascensor y terraza   \n",
       "4           4           2 habs.1 baño44 m²con ascensor   \n",
       "\n",
       "                                             address         price  \n",
       "0                          PisoHorta - Guinardóahora    750 € /mes  \n",
       "1  PisoCarrer del Cardenal Tedeschini, Sant Andre...    770 € /mes  \n",
       "2            PisoCarrer del Pare Laínez, Gràciaahora  1.300 € /mes  \n",
       "3  PisoPasseig D'isabel II, 2, Barcelona, España,...  2.800 € /mes  \n",
       "4         PisoCarrer de Cienfuegos, Sant Andreuahora    720 € /mes  "
      ]
     },
     "execution_count": 4,
     "metadata": {},
     "output_type": "execute_result"
    }
   ],
   "source": [
    "fotocasa.head()"
   ]
  },
  {
   "cell_type": "code",
   "execution_count": 5,
   "id": "sophisticated-situation",
   "metadata": {
    "hidden": true
   },
   "outputs": [],
   "source": [
    "#Creating a new column to separate all the description column information.\n",
    "fotocasa['rooms'] = fotocasa['description']\n",
    "fotocasa['bathroom'] = fotocasa['description']\n",
    "fotocasa['lift'] = fotocasa['description']\n",
    "fotocasa['terrace'] = fotocasa['description']\n",
    "fotocasa['square_meters'] = fotocasa['description']"
   ]
  },
  {
   "cell_type": "markdown",
   "id": "general-observer",
   "metadata": {
    "heading_collapsed": true
   },
   "source": [
    "## 2. Cleaning columns."
   ]
  },
  {
   "cell_type": "markdown",
   "id": "scenic-apparatus",
   "metadata": {
    "heading_collapsed": true,
    "hidden": true
   },
   "source": [
    "### 2.1 Clean rooms."
   ]
  },
  {
   "cell_type": "code",
   "execution_count": 6,
   "id": "mathematical-actor",
   "metadata": {
    "hidden": true
   },
   "outputs": [],
   "source": [
    "def rooms(row):\n",
    "    return re.findall('.*\\.',row)"
   ]
  },
  {
   "cell_type": "code",
   "execution_count": 7,
   "id": "sized-personality",
   "metadata": {
    "hidden": true
   },
   "outputs": [],
   "source": [
    "def fill_space(row):\n",
    "    if row == []:\n",
    "        return ['0']\n",
    "    else:\n",
    "        return row"
   ]
  },
  {
   "cell_type": "code",
   "execution_count": 8,
   "id": "headed-hardware",
   "metadata": {
    "hidden": true
   },
   "outputs": [],
   "source": [
    "def list_clean(row):\n",
    "    return row[0]"
   ]
  },
  {
   "cell_type": "code",
   "execution_count": 9,
   "id": "adaptive-specific",
   "metadata": {
    "hidden": true,
    "scrolled": true
   },
   "outputs": [],
   "source": [
    "fotocasa['rooms'] = fotocasa['rooms'].apply(rooms)\n",
    "fotocasa['rooms'] = fotocasa['rooms'].apply(fill_space)\n",
    "fotocasa['rooms'] = fotocasa['rooms'].apply(list_clean)"
   ]
  },
  {
   "cell_type": "markdown",
   "id": "interested-maker",
   "metadata": {
    "heading_collapsed": true,
    "hidden": true
   },
   "source": [
    "### 2.2 Clean bathroom."
   ]
  },
  {
   "cell_type": "code",
   "execution_count": 10,
   "id": "exposed-award",
   "metadata": {
    "hidden": true
   },
   "outputs": [],
   "source": [
    "def bathroom(row):\n",
    "    return re.findall('[\\d\\s]*baño',row)"
   ]
  },
  {
   "cell_type": "code",
   "execution_count": 11,
   "id": "dense-football",
   "metadata": {
    "hidden": true
   },
   "outputs": [],
   "source": [
    "def fill_space(row):\n",
    "    if row == []:\n",
    "        return ['1']\n",
    "    else:\n",
    "        return row"
   ]
  },
  {
   "cell_type": "code",
   "execution_count": 12,
   "id": "printable-medicine",
   "metadata": {
    "hidden": true
   },
   "outputs": [],
   "source": [
    "fotocasa['bathroom'] = fotocasa['bathroom'].apply(bathroom)\n",
    "fotocasa['bathroom'] = fotocasa['bathroom'].apply(fill_space)\n",
    "fotocasa['bathroom'] = fotocasa['bathroom'].apply(list_clean)"
   ]
  },
  {
   "cell_type": "markdown",
   "id": "thirty-backup",
   "metadata": {
    "heading_collapsed": true,
    "hidden": true
   },
   "source": [
    "### 2.3 Clean lift."
   ]
  },
  {
   "cell_type": "code",
   "execution_count": 13,
   "id": "eligible-bosnia",
   "metadata": {
    "hidden": true
   },
   "outputs": [],
   "source": [
    "def lift(row):\n",
    "    return re.findall('\\w*cens\\w*',row)"
   ]
  },
  {
   "cell_type": "code",
   "execution_count": 14,
   "id": "stopped-letters",
   "metadata": {
    "hidden": true
   },
   "outputs": [],
   "source": [
    "def fill_space(row):\n",
    "    if row == []:\n",
    "        return False\n",
    "    else:\n",
    "        return True"
   ]
  },
  {
   "cell_type": "code",
   "execution_count": 15,
   "id": "minor-identifier",
   "metadata": {
    "hidden": true
   },
   "outputs": [],
   "source": [
    "fotocasa['lift'] = fotocasa['lift'].apply(lift)\n",
    "fotocasa['lift'] = fotocasa['lift'].apply(fill_space)"
   ]
  },
  {
   "cell_type": "markdown",
   "id": "lyric-joining",
   "metadata": {
    "heading_collapsed": true,
    "hidden": true
   },
   "source": [
    "### 2.4 Clean terrace."
   ]
  },
  {
   "cell_type": "code",
   "execution_count": 16,
   "id": "royal-driving",
   "metadata": {
    "hidden": true
   },
   "outputs": [],
   "source": [
    "def terrace(row):\n",
    "    return re.findall('\\w*rraz\\w*',row)"
   ]
  },
  {
   "cell_type": "code",
   "execution_count": 17,
   "id": "related-columbus",
   "metadata": {
    "hidden": true
   },
   "outputs": [],
   "source": [
    "def fill_space(row):\n",
    "    if row == []:\n",
    "        return False\n",
    "    else:\n",
    "        return True"
   ]
  },
  {
   "cell_type": "code",
   "execution_count": 18,
   "id": "mysterious-beads",
   "metadata": {
    "hidden": true
   },
   "outputs": [],
   "source": [
    "fotocasa['terrace'] = fotocasa['terrace'].apply(terrace)\n",
    "fotocasa['terrace'] = fotocasa['terrace'].apply(fill_space)"
   ]
  },
  {
   "cell_type": "markdown",
   "id": "focused-liverpool",
   "metadata": {
    "heading_collapsed": true,
    "hidden": true
   },
   "source": [
    "### 2.5 Clean square_meters."
   ]
  },
  {
   "cell_type": "code",
   "execution_count": 19,
   "id": "broke-merchant",
   "metadata": {
    "hidden": true
   },
   "outputs": [],
   "source": [
    "def square_meters(row):\n",
    "    return re.findall('[\\d\\s]*m²',row)"
   ]
  },
  {
   "cell_type": "code",
   "execution_count": 20,
   "id": "square-canon",
   "metadata": {
    "hidden": true
   },
   "outputs": [],
   "source": [
    "def fill_space(row):\n",
    "    if row == []:\n",
    "        return ['0']\n",
    "    else:\n",
    "        return row"
   ]
  },
  {
   "cell_type": "code",
   "execution_count": 21,
   "id": "congressional-reminder",
   "metadata": {
    "hidden": true
   },
   "outputs": [],
   "source": [
    "fotocasa['square_meters'] = fotocasa['square_meters'].apply(square_meters)\n",
    "fotocasa['square_meters'] = fotocasa['square_meters'].apply(fill_space)\n",
    "fotocasa['square_meters'] = fotocasa['square_meters'].apply(list_clean)"
   ]
  },
  {
   "cell_type": "markdown",
   "id": "suffering-lawrence",
   "metadata": {
    "heading_collapsed": true,
    "hidden": true
   },
   "source": [
    "### 2.6 Clean prices."
   ]
  },
  {
   "cell_type": "code",
   "execution_count": 22,
   "id": "serial-portfolio",
   "metadata": {
    "hidden": true
   },
   "outputs": [],
   "source": [
    "def price(row):\n",
    "    return re.findall('.*mes',row)"
   ]
  },
  {
   "cell_type": "code",
   "execution_count": 23,
   "id": "patient-connection",
   "metadata": {
    "hidden": true
   },
   "outputs": [],
   "source": [
    "def price_coma(row):\n",
    "    return re.sub(',','',row)"
   ]
  },
  {
   "cell_type": "code",
   "execution_count": 24,
   "id": "defensive-answer",
   "metadata": {
    "hidden": true
   },
   "outputs": [],
   "source": [
    "def fill_space(row):\n",
    "    if row == []:\n",
    "        return ['0']\n",
    "    else:\n",
    "        return row"
   ]
  },
  {
   "cell_type": "code",
   "execution_count": 25,
   "id": "demographic-turkey",
   "metadata": {
    "hidden": true
   },
   "outputs": [],
   "source": [
    "fotocasa['price'] = fotocasa['price'].apply(price)\n",
    "fotocasa['price'] = fotocasa['price'].apply(fill_space)\n",
    "fotocasa['price'] = fotocasa['price'].apply(list_clean)\n",
    "fotocasa['price'] = list(map(lambda x: x.replace('.',''),fotocasa['price']))"
   ]
  },
  {
   "cell_type": "markdown",
   "id": "express-combination",
   "metadata": {
    "heading_collapsed": true
   },
   "source": [
    "## 3. More cleaning of the data set."
   ]
  },
  {
   "cell_type": "markdown",
   "id": "opened-division",
   "metadata": {
    "heading_collapsed": true,
    "hidden": true
   },
   "source": [
    "### 3.1 To get just numbers of numerical columns and make them numerical."
   ]
  },
  {
   "cell_type": "code",
   "execution_count": 26,
   "id": "fitted-centre",
   "metadata": {
    "hidden": true
   },
   "outputs": [],
   "source": [
    "num_cols = ['price','rooms','bathroom','square_meters']"
   ]
  },
  {
   "cell_type": "code",
   "execution_count": 27,
   "id": "threaded-commonwealth",
   "metadata": {
    "hidden": true
   },
   "outputs": [],
   "source": [
    "def get_numbers(row):\n",
    "    return re.findall('[\\d.]{1,7}',row)"
   ]
  },
  {
   "cell_type": "code",
   "execution_count": 28,
   "id": "pacific-seventh",
   "metadata": {
    "hidden": true
   },
   "outputs": [],
   "source": [
    "for column in num_cols:\n",
    "    fotocasa[column] = fotocasa[column].apply(get_numbers)"
   ]
  },
  {
   "cell_type": "code",
   "execution_count": 29,
   "id": "measured-breath",
   "metadata": {
    "hidden": true
   },
   "outputs": [],
   "source": [
    "for column in num_cols:\n",
    "    fotocasa[column] = fotocasa[column].apply(list_clean)"
   ]
  },
  {
   "cell_type": "code",
   "execution_count": 30,
   "id": "established-vintage",
   "metadata": {
    "hidden": true
   },
   "outputs": [],
   "source": [
    "for column in num_cols:\n",
    "    fotocasa[column] = pd.to_numeric(fotocasa[column])"
   ]
  },
  {
   "cell_type": "markdown",
   "id": "objective-indonesian",
   "metadata": {
    "heading_collapsed": true,
    "hidden": true
   },
   "source": [
    "### 3.2 Remiving rows without price or square meteres and some outliers."
   ]
  },
  {
   "cell_type": "code",
   "execution_count": 31,
   "id": "ruled-apartment",
   "metadata": {
    "hidden": true
   },
   "outputs": [],
   "source": [
    "fotocasa = fotocasa.drop(['Unnamed: 0','description'],axis=1)\n",
    "fotocasa = fotocasa[fotocasa['price']!=0]\n",
    "fotocasa = fotocasa[fotocasa['square_meters']!=0]"
   ]
  },
  {
   "cell_type": "code",
   "execution_count": 32,
   "id": "radical-toner",
   "metadata": {
    "hidden": true
   },
   "outputs": [],
   "source": [
    "fotocasa = fotocasa[fotocasa['price']<20000]\n",
    "fotocasa = fotocasa[fotocasa['square_meters']<700]"
   ]
  },
  {
   "cell_type": "markdown",
   "id": "presidential-tunisia",
   "metadata": {
    "heading_collapsed": true,
    "hidden": true
   },
   "source": [
    "### 3.3 Creating real state."
   ]
  },
  {
   "cell_type": "code",
   "execution_count": 33,
   "id": "recovered-violence",
   "metadata": {
    "hidden": true
   },
   "outputs": [],
   "source": [
    "fotocasa['real_state'] = fotocasa['address']"
   ]
  },
  {
   "cell_type": "code",
   "execution_count": 34,
   "id": "hairy-internship",
   "metadata": {
    "hidden": true
   },
   "outputs": [],
   "source": [
    "def flat_house(row):\n",
    "    return re.findall('([\\w]*[ABCDEFGHIJKLMNÑOPQRSTUVWXYZ])\\w',row)"
   ]
  },
  {
   "cell_type": "code",
   "execution_count": 35,
   "id": "ancient-characterization",
   "metadata": {
    "hidden": true
   },
   "outputs": [],
   "source": [
    "def flat_house1(row):\n",
    "    return row[0]"
   ]
  },
  {
   "cell_type": "code",
   "execution_count": 36,
   "id": "explicit-stamp",
   "metadata": {
    "hidden": true
   },
   "outputs": [],
   "source": [
    "def flat_house2(row):\n",
    "    return row[:-1]"
   ]
  },
  {
   "cell_type": "code",
   "execution_count": 37,
   "id": "referenced-creation",
   "metadata": {
    "hidden": true
   },
   "outputs": [],
   "source": [
    "fotocasa['real_state'] = fotocasa['real_state'].apply(flat_house)\n",
    "fotocasa['real_state'] = fotocasa['real_state'].apply(flat_house1)\n",
    "fotocasa['real_state'] = fotocasa['real_state'].apply(flat_house2)"
   ]
  },
  {
   "cell_type": "code",
   "execution_count": 38,
   "id": "viral-bacon",
   "metadata": {
    "hidden": true
   },
   "outputs": [],
   "source": [
    "fotocasa = fotocasa[fotocasa['real_state']!='']"
   ]
  },
  {
   "cell_type": "code",
   "execution_count": 39,
   "id": "streaming-patent",
   "metadata": {
    "hidden": true
   },
   "outputs": [],
   "source": [
    "fotocasa.reset_index(inplace=True,drop=True)"
   ]
  },
  {
   "cell_type": "markdown",
   "id": "million-edgar",
   "metadata": {
    "heading_collapsed": true,
    "hidden": true
   },
   "source": [
    "### 3.4 Creating address."
   ]
  },
  {
   "cell_type": "code",
   "execution_count": 40,
   "id": "classical-throat",
   "metadata": {
    "hidden": true
   },
   "outputs": [],
   "source": [
    "fotocasa['address1'] = fotocasa['address']"
   ]
  },
  {
   "cell_type": "code",
   "execution_count": 41,
   "id": "entertaining-amazon",
   "metadata": {
    "hidden": true
   },
   "outputs": [],
   "source": [
    "def clean_ahora(row):\n",
    "    return re.sub('ahora.*','',row)"
   ]
  },
  {
   "cell_type": "code",
   "execution_count": 42,
   "id": "royal-indie",
   "metadata": {
    "hidden": true
   },
   "outputs": [],
   "source": [
    "def clean_hace(row):\n",
    "    return re.sub('hace.*','',row)"
   ]
  },
  {
   "cell_type": "code",
   "execution_count": 43,
   "id": "suitable-tobacco",
   "metadata": {
    "hidden": true
   },
   "outputs": [],
   "source": [
    "fotocasa['address1'] = fotocasa['address1'].apply(clean_ahora)\n",
    "fotocasa['address1'] = fotocasa['address1'].apply(clean_hace)"
   ]
  },
  {
   "cell_type": "code",
   "execution_count": 44,
   "id": "sorted-homeless",
   "metadata": {
    "hidden": true
   },
   "outputs": [],
   "source": [
    "for row in range(len(fotocasa['address1'])):\n",
    "    fotocasa.loc[row,'address1'] = fotocasa.loc[row,'address1'][len(fotocasa.loc[row,'real_state']):]"
   ]
  },
  {
   "cell_type": "code",
   "execution_count": 45,
   "id": "educated-cocktail",
   "metadata": {
    "hidden": true
   },
   "outputs": [],
   "source": [
    "fotocasa = fotocasa.drop(['address'],axis=1)"
   ]
  },
  {
   "cell_type": "code",
   "execution_count": 46,
   "id": "confidential-society",
   "metadata": {
    "hidden": true
   },
   "outputs": [],
   "source": [
    "fotocasa['neighborhood'] = fotocasa['address1']"
   ]
  },
  {
   "cell_type": "code",
   "execution_count": 47,
   "id": "protected-graham",
   "metadata": {
    "hidden": true,
    "scrolled": false
   },
   "outputs": [
    {
     "data": {
      "text/html": [
       "<div>\n",
       "<style scoped>\n",
       "    .dataframe tbody tr th:only-of-type {\n",
       "        vertical-align: middle;\n",
       "    }\n",
       "\n",
       "    .dataframe tbody tr th {\n",
       "        vertical-align: top;\n",
       "    }\n",
       "\n",
       "    .dataframe thead th {\n",
       "        text-align: right;\n",
       "    }\n",
       "</style>\n",
       "<table border=\"1\" class=\"dataframe\">\n",
       "  <thead>\n",
       "    <tr style=\"text-align: right;\">\n",
       "      <th></th>\n",
       "      <th>price</th>\n",
       "      <th>rooms</th>\n",
       "      <th>bathroom</th>\n",
       "      <th>lift</th>\n",
       "      <th>terrace</th>\n",
       "      <th>square_meters</th>\n",
       "      <th>real_state</th>\n",
       "      <th>address1</th>\n",
       "      <th>neighborhood</th>\n",
       "    </tr>\n",
       "  </thead>\n",
       "  <tbody>\n",
       "    <tr>\n",
       "      <th>0</th>\n",
       "      <td>750</td>\n",
       "      <td>3</td>\n",
       "      <td>1</td>\n",
       "      <td>True</td>\n",
       "      <td>False</td>\n",
       "      <td>60</td>\n",
       "      <td>Piso</td>\n",
       "      <td>Horta - Guinardó</td>\n",
       "      <td>Horta - Guinardó</td>\n",
       "    </tr>\n",
       "    <tr>\n",
       "      <th>1</th>\n",
       "      <td>770</td>\n",
       "      <td>2</td>\n",
       "      <td>1</td>\n",
       "      <td>True</td>\n",
       "      <td>False</td>\n",
       "      <td>59</td>\n",
       "      <td>Piso</td>\n",
       "      <td>Carrer del Cardenal Tedeschini, Sant Andreu</td>\n",
       "      <td>Carrer del Cardenal Tedeschini, Sant Andreu</td>\n",
       "    </tr>\n",
       "    <tr>\n",
       "      <th>2</th>\n",
       "      <td>1300</td>\n",
       "      <td>1</td>\n",
       "      <td>1</td>\n",
       "      <td>True</td>\n",
       "      <td>True</td>\n",
       "      <td>30</td>\n",
       "      <td>Piso</td>\n",
       "      <td>Carrer del Pare Laínez, Gràcia</td>\n",
       "      <td>Carrer del Pare Laínez, Gràcia</td>\n",
       "    </tr>\n",
       "    <tr>\n",
       "      <th>3</th>\n",
       "      <td>2800</td>\n",
       "      <td>1</td>\n",
       "      <td>1</td>\n",
       "      <td>True</td>\n",
       "      <td>True</td>\n",
       "      <td>70</td>\n",
       "      <td>Piso</td>\n",
       "      <td>Passeig D'isabel II, 2, Barcelona, España, Ciu...</td>\n",
       "      <td>Passeig D'isabel II, 2, Barcelona, España, Ciu...</td>\n",
       "    </tr>\n",
       "    <tr>\n",
       "      <th>4</th>\n",
       "      <td>720</td>\n",
       "      <td>2</td>\n",
       "      <td>1</td>\n",
       "      <td>True</td>\n",
       "      <td>False</td>\n",
       "      <td>44</td>\n",
       "      <td>Piso</td>\n",
       "      <td>Carrer de Cienfuegos, Sant Andreu</td>\n",
       "      <td>Carrer de Cienfuegos, Sant Andreu</td>\n",
       "    </tr>\n",
       "  </tbody>\n",
       "</table>\n",
       "</div>"
      ],
      "text/plain": [
       "   price  rooms  bathroom  lift  terrace  square_meters real_state  \\\n",
       "0    750      3         1  True    False             60       Piso   \n",
       "1    770      2         1  True    False             59       Piso   \n",
       "2   1300      1         1  True     True             30       Piso   \n",
       "3   2800      1         1  True     True             70       Piso   \n",
       "4    720      2         1  True    False             44       Piso   \n",
       "\n",
       "                                            address1  \\\n",
       "0                                   Horta - Guinardó   \n",
       "1        Carrer del Cardenal Tedeschini, Sant Andreu   \n",
       "2                     Carrer del Pare Laínez, Gràcia   \n",
       "3  Passeig D'isabel II, 2, Barcelona, España, Ciu...   \n",
       "4                  Carrer de Cienfuegos, Sant Andreu   \n",
       "\n",
       "                                        neighborhood  \n",
       "0                                   Horta - Guinardó  \n",
       "1        Carrer del Cardenal Tedeschini, Sant Andreu  \n",
       "2                     Carrer del Pare Laínez, Gràcia  \n",
       "3  Passeig D'isabel II, 2, Barcelona, España, Ciu...  \n",
       "4                  Carrer de Cienfuegos, Sant Andreu  "
      ]
     },
     "execution_count": 47,
     "metadata": {},
     "output_type": "execute_result"
    }
   ],
   "source": [
    "fotocasa.head()"
   ]
  },
  {
   "cell_type": "code",
   "execution_count": 48,
   "id": "consecutive-pioneer",
   "metadata": {
    "hidden": true
   },
   "outputs": [],
   "source": [
    "fotocasa['neighborhood'] = fotocasa['neighborhood'].str.split(',').str[-1]\n",
    "fotocasa['neighborhood'] = fotocasa['neighborhood'].str.split('-').str[-1]"
   ]
  },
  {
   "cell_type": "code",
   "execution_count": 49,
   "id": "irish-transfer",
   "metadata": {
    "hidden": true
   },
   "outputs": [],
   "source": [
    "fotocasa['address1'] = fotocasa['address1'].str.split(',').str[0]\n",
    "fotocasa['address1'] = fotocasa['address1'].str.split('-').str[0]"
   ]
  },
  {
   "cell_type": "code",
   "execution_count": 50,
   "id": "parallel-ceiling",
   "metadata": {
    "hidden": true
   },
   "outputs": [],
   "source": [
    "fotocasa['neighborhood'] = list(map(lambda x: x.strip(),fotocasa['neighborhood']))"
   ]
  },
  {
   "cell_type": "code",
   "execution_count": 51,
   "id": "urban-discharge",
   "metadata": {
    "hidden": true
   },
   "outputs": [],
   "source": [
    "fotocasa['real_state'] = fotocasa['real_state'].map({'Piso':'flat','Ático':'attic','Apartamento':'apartment','Estudio':'study'})"
   ]
  },
  {
   "cell_type": "markdown",
   "id": "convinced-breakfast",
   "metadata": {
    "heading_collapsed": true,
    "hidden": true
   },
   "source": [
    "### 3.5 Square meters."
   ]
  },
  {
   "cell_type": "code",
   "execution_count": 52,
   "id": "equivalent-copying",
   "metadata": {
    "hidden": true
   },
   "outputs": [],
   "source": [
    "neighborhood = list(fotocasa['neighborhood'].unique())"
   ]
  },
  {
   "cell_type": "code",
   "execution_count": 53,
   "id": "floppy-second",
   "metadata": {
    "hidden": true
   },
   "outputs": [],
   "source": [
    "fotocasa['square_meters_price'] = fotocasa['price']/fotocasa['square_meters']"
   ]
  },
  {
   "cell_type": "markdown",
   "id": "vanilla-optimization",
   "metadata": {
    "heading_collapsed": true,
    "hidden": true
   },
   "source": [
    "### 3.6 Clenaning white spaces."
   ]
  },
  {
   "cell_type": "code",
   "execution_count": 54,
   "id": "false-fundamentals",
   "metadata": {
    "hidden": true
   },
   "outputs": [],
   "source": [
    "def clean_1whitespace_left(row):\n",
    "    if row[0]== ' ':\n",
    "        return row[1:]\n",
    "    else: \n",
    "        return row"
   ]
  },
  {
   "cell_type": "code",
   "execution_count": 55,
   "id": "fabulous-vatican",
   "metadata": {
    "hidden": true
   },
   "outputs": [],
   "source": [
    "def clean_2whitespace_left(row):\n",
    "    if row[:2]== '  ':\n",
    "        return row[2:]\n",
    "    else: \n",
    "        return row"
   ]
  },
  {
   "cell_type": "code",
   "execution_count": 56,
   "id": "affiliated-apollo",
   "metadata": {
    "hidden": true
   },
   "outputs": [],
   "source": [
    "def clean_3whitespace_left(row):\n",
    "    if row[:3]== '   ':\n",
    "        return row[3:]\n",
    "    else: \n",
    "        return row"
   ]
  },
  {
   "cell_type": "code",
   "execution_count": 57,
   "id": "forbidden-kenya",
   "metadata": {
    "hidden": true
   },
   "outputs": [],
   "source": [
    "def clean_1whitespace_right(row):\n",
    "    if row[-1]== ' ':\n",
    "        return row[:-1]\n",
    "    else: \n",
    "        return row"
   ]
  },
  {
   "cell_type": "code",
   "execution_count": 58,
   "id": "possible-pilot",
   "metadata": {
    "hidden": true
   },
   "outputs": [],
   "source": [
    "def clean_2whitespace_right(row):\n",
    "    if row[-2:]== '  ':\n",
    "        return row[:-2]\n",
    "    else: \n",
    "        return row"
   ]
  },
  {
   "cell_type": "code",
   "execution_count": 59,
   "id": "accredited-banking",
   "metadata": {
    "hidden": true
   },
   "outputs": [],
   "source": [
    "def clean_3whitespace_right(row):\n",
    "    if row[-3:]== '   ':\n",
    "        return row[:-3]\n",
    "    else: \n",
    "        return row"
   ]
  },
  {
   "cell_type": "code",
   "execution_count": 60,
   "id": "entire-cornwall",
   "metadata": {
    "hidden": true
   },
   "outputs": [],
   "source": [
    "fotocasa['address1'] = fotocasa['address1'].apply(clean_1whitespace_left)\n",
    "fotocasa['address1'] = fotocasa['address1'].apply(clean_2whitespace_left)\n",
    "fotocasa['address1'] = fotocasa['address1'].apply(clean_3whitespace_left)\n",
    "fotocasa['address1'] = fotocasa['address1'].apply(clean_1whitespace_right)\n",
    "fotocasa['address1'] = fotocasa['address1'].apply(clean_2whitespace_right)\n",
    "fotocasa['address1'] = fotocasa['address1'].apply(clean_3whitespace_right)"
   ]
  },
  {
   "cell_type": "markdown",
   "id": "wrapped-temperature",
   "metadata": {
    "heading_collapsed": true,
    "hidden": true
   },
   "source": [
    "### 3.7 More cleaning of address and neighborhood."
   ]
  },
  {
   "cell_type": "code",
   "execution_count": 61,
   "id": "refined-treasurer",
   "metadata": {
    "hidden": true
   },
   "outputs": [],
   "source": [
    "neighborhood1 = list(fotocasa['neighborhood'].unique())"
   ]
  },
  {
   "cell_type": "code",
   "execution_count": 62,
   "id": "appointed-tooth",
   "metadata": {
    "hidden": true
   },
   "outputs": [],
   "source": [
    "def cleaning_adress_neighborhood1(row):\n",
    "    if row in neighborhood1:\n",
    "        return 'Another'\n",
    "    else:\n",
    "        return row"
   ]
  },
  {
   "cell_type": "code",
   "execution_count": 63,
   "id": "greek-mobility",
   "metadata": {
    "hidden": true
   },
   "outputs": [],
   "source": [
    "fotocasa['address1'] = fotocasa['address1'].apply(cleaning_adress_neighborhood1)"
   ]
  },
  {
   "cell_type": "code",
   "execution_count": 64,
   "id": "optional-refund",
   "metadata": {
    "hidden": true
   },
   "outputs": [],
   "source": [
    "fotocasa['neighborhood'] = fotocasa['neighborhood'].map({'Eixample':'Eixample','Guinardó':'Horta- Guinardo', \n",
    "                              'Sant Gervasi': 'Sarria-Sant Gervasi','Ciutat Vella':'Ciutat Vella','Gràcia':'Gràcia',\n",
    "                              'Sant Martí':'Sant Martí','Montjuïc':'Sants-Montjuïc','Marques de Mul':'Les Corts',\n",
    "                             'Les Corts':'Les Corts','Sant Andreu':'Sant Andreu','Nou Barris':'Nou Barris'})"
   ]
  },
  {
   "cell_type": "code",
   "execution_count": 65,
   "id": "available-template",
   "metadata": {
    "hidden": true
   },
   "outputs": [],
   "source": [
    "neighborhood2 = ['Horta','Sarria','Sarrià','Ciutat','Sant','Sants','Les','Nou']"
   ]
  },
  {
   "cell_type": "code",
   "execution_count": 66,
   "id": "designing-perth",
   "metadata": {
    "hidden": true
   },
   "outputs": [],
   "source": [
    "def cleaning_adress_neighborhood2(row):\n",
    "    if row in neighborhood2:\n",
    "        return 'Another'\n",
    "    else:\n",
    "        return row"
   ]
  },
  {
   "cell_type": "code",
   "execution_count": 67,
   "id": "living-grant",
   "metadata": {
    "hidden": true
   },
   "outputs": [],
   "source": [
    "fotocasa['address1'] = fotocasa['address1'].apply(cleaning_adress_neighborhood2)"
   ]
  },
  {
   "cell_type": "markdown",
   "id": "fatty-stanley",
   "metadata": {
    "heading_collapsed": true,
    "hidden": true
   },
   "source": [
    "### 3.8 Drop address."
   ]
  },
  {
   "cell_type": "code",
   "execution_count": 68,
   "id": "empty-suggestion",
   "metadata": {
    "hidden": true
   },
   "outputs": [],
   "source": [
    "#For the final prototipe it does not worth cleaning it.\n",
    "fotocasa = fotocasa.drop(['address1'],axis=1)"
   ]
  },
  {
   "cell_type": "code",
   "execution_count": 69,
   "id": "explicit-partner",
   "metadata": {
    "hidden": true
   },
   "outputs": [],
   "source": [
    "fotocasa.to_csv('csv/fotocasa_clean.csv')"
   ]
  },
  {
   "cell_type": "markdown",
   "id": "instrumental-chicago",
   "metadata": {
    "heading_collapsed": true
   },
   "source": [
    "## 4. Pivot tables."
   ]
  },
  {
   "cell_type": "markdown",
   "id": "korean-consistency",
   "metadata": {
    "heading_collapsed": true,
    "hidden": true
   },
   "source": [
    "### 4.1 Lift and terrace price."
   ]
  },
  {
   "cell_type": "code",
   "execution_count": 70,
   "id": "alike-bennett",
   "metadata": {
    "hidden": true
   },
   "outputs": [],
   "source": [
    "terrace = fotocasa[fotocasa['terrace']==True]"
   ]
  },
  {
   "cell_type": "code",
   "execution_count": 71,
   "id": "baking-functionality",
   "metadata": {
    "hidden": true
   },
   "outputs": [],
   "source": [
    "lift = fotocasa[fotocasa['lift']==True]"
   ]
  },
  {
   "cell_type": "code",
   "execution_count": 72,
   "id": "raising-reducing",
   "metadata": {
    "hidden": true
   },
   "outputs": [],
   "source": [
    "A = terrace.pivot_table(index = ['neighborhood'], values = ['price'], aggfunc = ['mean']).reset_index()"
   ]
  },
  {
   "cell_type": "code",
   "execution_count": 73,
   "id": "democratic-beatles",
   "metadata": {
    "hidden": true
   },
   "outputs": [],
   "source": [
    "B = lift.pivot_table(index = ['neighborhood'], values = ['price'], aggfunc = ['mean']).reset_index()"
   ]
  },
  {
   "cell_type": "code",
   "execution_count": 74,
   "id": "fatty-nightlife",
   "metadata": {
    "hidden": true
   },
   "outputs": [],
   "source": [
    "C = fotocasa.pivot_table(index = ['neighborhood'], values = ['price'], aggfunc = ['mean']).reset_index()"
   ]
  },
  {
   "cell_type": "markdown",
   "id": "economic-appliance",
   "metadata": {
    "heading_collapsed": true,
    "hidden": true
   },
   "source": [
    "#### 4.1.1 Terrace price."
   ]
  },
  {
   "cell_type": "code",
   "execution_count": 75,
   "id": "environmental-heater",
   "metadata": {
    "hidden": true,
    "scrolled": true
   },
   "outputs": [
    {
     "name": "stderr",
     "output_type": "stream",
     "text": [
      "/usr/local/Cellar/jupyterlab/3.0.9/libexec/lib/python3.9/site-packages/pandas/core/generic.py:4153: PerformanceWarning: dropping on a non-lexsorted multi-index without a level parameter may impact performance.\n",
      "  obj = obj._drop_axis(labels, axis, level=level, errors=errors)\n"
     ]
    }
   ],
   "source": [
    "AC = pd.merge(left = A,\n",
    "                         right = C,\n",
    "                         how = 'inner', \n",
    "                         left_on = 'neighborhood', \n",
    "                         right_on= 'neighborhood')"
   ]
  },
  {
   "cell_type": "code",
   "execution_count": 76,
   "id": "minimal-sequence",
   "metadata": {
    "hidden": true
   },
   "outputs": [],
   "source": [
    "AC['terrace_price'] = AC['mean_x']-AC['mean_y']"
   ]
  },
  {
   "cell_type": "code",
   "execution_count": 77,
   "id": "passing-liver",
   "metadata": {
    "hidden": true
   },
   "outputs": [
    {
     "data": {
      "text/html": [
       "<div>\n",
       "<style scoped>\n",
       "    .dataframe tbody tr th:only-of-type {\n",
       "        vertical-align: middle;\n",
       "    }\n",
       "\n",
       "    .dataframe tbody tr th {\n",
       "        vertical-align: top;\n",
       "    }\n",
       "\n",
       "    .dataframe thead tr th {\n",
       "        text-align: left;\n",
       "    }\n",
       "</style>\n",
       "<table border=\"1\" class=\"dataframe\">\n",
       "  <thead>\n",
       "    <tr>\n",
       "      <th></th>\n",
       "      <th>neighborhood</th>\n",
       "      <th>mean_x</th>\n",
       "      <th>mean_y</th>\n",
       "      <th>terrace_price</th>\n",
       "    </tr>\n",
       "    <tr>\n",
       "      <th></th>\n",
       "      <th></th>\n",
       "      <th>price</th>\n",
       "      <th>price</th>\n",
       "      <th></th>\n",
       "    </tr>\n",
       "  </thead>\n",
       "  <tbody>\n",
       "    <tr>\n",
       "      <th>0</th>\n",
       "      <td>Ciutat Vella</td>\n",
       "      <td>1581.642458</td>\n",
       "      <td>1205.523810</td>\n",
       "      <td>376.118649</td>\n",
       "    </tr>\n",
       "    <tr>\n",
       "      <th>1</th>\n",
       "      <td>Eixample</td>\n",
       "      <td>1832.644211</td>\n",
       "      <td>1592.147022</td>\n",
       "      <td>240.497188</td>\n",
       "    </tr>\n",
       "    <tr>\n",
       "      <th>2</th>\n",
       "      <td>Gràcia</td>\n",
       "      <td>1261.079137</td>\n",
       "      <td>1185.434593</td>\n",
       "      <td>75.644544</td>\n",
       "    </tr>\n",
       "    <tr>\n",
       "      <th>3</th>\n",
       "      <td>Horta- Guinardo</td>\n",
       "      <td>1051.820896</td>\n",
       "      <td>903.453968</td>\n",
       "      <td>148.366927</td>\n",
       "    </tr>\n",
       "    <tr>\n",
       "      <th>4</th>\n",
       "      <td>Les Corts</td>\n",
       "      <td>2093.320513</td>\n",
       "      <td>1610.748092</td>\n",
       "      <td>482.572421</td>\n",
       "    </tr>\n",
       "    <tr>\n",
       "      <th>5</th>\n",
       "      <td>Nou Barris</td>\n",
       "      <td>834.950000</td>\n",
       "      <td>807.921053</td>\n",
       "      <td>27.028947</td>\n",
       "    </tr>\n",
       "    <tr>\n",
       "      <th>6</th>\n",
       "      <td>Sant Andreu</td>\n",
       "      <td>971.916667</td>\n",
       "      <td>899.657303</td>\n",
       "      <td>72.259363</td>\n",
       "    </tr>\n",
       "    <tr>\n",
       "      <th>7</th>\n",
       "      <td>Sant Martí</td>\n",
       "      <td>1928.795918</td>\n",
       "      <td>1434.876823</td>\n",
       "      <td>493.919095</td>\n",
       "    </tr>\n",
       "    <tr>\n",
       "      <th>8</th>\n",
       "      <td>Sants-Montjuïc</td>\n",
       "      <td>1034.760000</td>\n",
       "      <td>1028.233898</td>\n",
       "      <td>6.526102</td>\n",
       "    </tr>\n",
       "    <tr>\n",
       "      <th>9</th>\n",
       "      <td>Sarria-Sant Gervasi</td>\n",
       "      <td>2547.284900</td>\n",
       "      <td>1910.835960</td>\n",
       "      <td>636.448940</td>\n",
       "    </tr>\n",
       "  </tbody>\n",
       "</table>\n",
       "</div>"
      ],
      "text/plain": [
       "          neighborhood       mean_x       mean_y terrace_price\n",
       "                              price        price              \n",
       "0         Ciutat Vella  1581.642458  1205.523810    376.118649\n",
       "1             Eixample  1832.644211  1592.147022    240.497188\n",
       "2               Gràcia  1261.079137  1185.434593     75.644544\n",
       "3      Horta- Guinardo  1051.820896   903.453968    148.366927\n",
       "4            Les Corts  2093.320513  1610.748092    482.572421\n",
       "5           Nou Barris   834.950000   807.921053     27.028947\n",
       "6          Sant Andreu   971.916667   899.657303     72.259363\n",
       "7           Sant Martí  1928.795918  1434.876823    493.919095\n",
       "8       Sants-Montjuïc  1034.760000  1028.233898      6.526102\n",
       "9  Sarria-Sant Gervasi  2547.284900  1910.835960    636.448940"
      ]
     },
     "execution_count": 77,
     "metadata": {},
     "output_type": "execute_result"
    }
   ],
   "source": [
    "AC"
   ]
  },
  {
   "cell_type": "code",
   "execution_count": 78,
   "id": "documentary-swiss",
   "metadata": {
    "hidden": true
   },
   "outputs": [
    {
     "data": {
      "text/plain": [
       "255.93821769695415"
      ]
     },
     "execution_count": 78,
     "metadata": {},
     "output_type": "execute_result"
    }
   ],
   "source": [
    "AC['terrace_price'].mean()"
   ]
  },
  {
   "cell_type": "markdown",
   "id": "twelve-poultry",
   "metadata": {
    "heading_collapsed": true,
    "hidden": true
   },
   "source": [
    "#### 4.1.2 Lift price."
   ]
  },
  {
   "cell_type": "code",
   "execution_count": 80,
   "id": "domestic-administrator",
   "metadata": {
    "hidden": true,
    "scrolled": false
   },
   "outputs": [
    {
     "name": "stderr",
     "output_type": "stream",
     "text": [
      "/usr/local/Cellar/jupyterlab/3.0.9/libexec/lib/python3.9/site-packages/pandas/core/generic.py:4153: PerformanceWarning: dropping on a non-lexsorted multi-index without a level parameter may impact performance.\n",
      "  obj = obj._drop_axis(labels, axis, level=level, errors=errors)\n"
     ]
    }
   ],
   "source": [
    "BC = pd.merge(left = B,\n",
    "                         right = C,\n",
    "                         how = 'inner', \n",
    "                         left_on = 'neighborhood', \n",
    "                         right_on= 'neighborhood')"
   ]
  },
  {
   "cell_type": "code",
   "execution_count": 81,
   "id": "precise-catering",
   "metadata": {
    "hidden": true
   },
   "outputs": [
    {
     "data": {
      "text/html": [
       "<div>\n",
       "<style scoped>\n",
       "    .dataframe tbody tr th:only-of-type {\n",
       "        vertical-align: middle;\n",
       "    }\n",
       "\n",
       "    .dataframe tbody tr th {\n",
       "        vertical-align: top;\n",
       "    }\n",
       "\n",
       "    .dataframe thead tr th {\n",
       "        text-align: left;\n",
       "    }\n",
       "</style>\n",
       "<table border=\"1\" class=\"dataframe\">\n",
       "  <thead>\n",
       "    <tr>\n",
       "      <th></th>\n",
       "      <th>neighborhood</th>\n",
       "      <th>mean_x</th>\n",
       "      <th>mean_y</th>\n",
       "      <th>lift_price</th>\n",
       "    </tr>\n",
       "    <tr>\n",
       "      <th></th>\n",
       "      <th></th>\n",
       "      <th>price</th>\n",
       "      <th>price</th>\n",
       "      <th></th>\n",
       "    </tr>\n",
       "  </thead>\n",
       "  <tbody>\n",
       "    <tr>\n",
       "      <th>0</th>\n",
       "      <td>Ciutat Vella</td>\n",
       "      <td>1343.878089</td>\n",
       "      <td>1205.523810</td>\n",
       "      <td>138.354279</td>\n",
       "    </tr>\n",
       "    <tr>\n",
       "      <th>1</th>\n",
       "      <td>Eixample</td>\n",
       "      <td>1477.358783</td>\n",
       "      <td>1592.147022</td>\n",
       "      <td>-114.788239</td>\n",
       "    </tr>\n",
       "    <tr>\n",
       "      <th>2</th>\n",
       "      <td>Gràcia</td>\n",
       "      <td>1209.838942</td>\n",
       "      <td>1185.434593</td>\n",
       "      <td>24.404349</td>\n",
       "    </tr>\n",
       "    <tr>\n",
       "      <th>3</th>\n",
       "      <td>Horta- Guinardo</td>\n",
       "      <td>941.154696</td>\n",
       "      <td>903.453968</td>\n",
       "      <td>37.700728</td>\n",
       "    </tr>\n",
       "    <tr>\n",
       "      <th>4</th>\n",
       "      <td>Les Corts</td>\n",
       "      <td>1669.705618</td>\n",
       "      <td>1610.748092</td>\n",
       "      <td>58.957526</td>\n",
       "    </tr>\n",
       "    <tr>\n",
       "      <th>5</th>\n",
       "      <td>Nou Barris</td>\n",
       "      <td>842.442857</td>\n",
       "      <td>807.921053</td>\n",
       "      <td>34.521805</td>\n",
       "    </tr>\n",
       "    <tr>\n",
       "      <th>6</th>\n",
       "      <td>Sant Andreu</td>\n",
       "      <td>900.389313</td>\n",
       "      <td>899.657303</td>\n",
       "      <td>0.732010</td>\n",
       "    </tr>\n",
       "    <tr>\n",
       "      <th>7</th>\n",
       "      <td>Sant Martí</td>\n",
       "      <td>1433.653017</td>\n",
       "      <td>1434.876823</td>\n",
       "      <td>-1.223806</td>\n",
       "    </tr>\n",
       "    <tr>\n",
       "      <th>8</th>\n",
       "      <td>Sants-Montjuïc</td>\n",
       "      <td>981.391176</td>\n",
       "      <td>1028.233898</td>\n",
       "      <td>-46.842722</td>\n",
       "    </tr>\n",
       "    <tr>\n",
       "      <th>9</th>\n",
       "      <td>Sarria-Sant Gervasi</td>\n",
       "      <td>1979.086221</td>\n",
       "      <td>1910.835960</td>\n",
       "      <td>68.250262</td>\n",
       "    </tr>\n",
       "  </tbody>\n",
       "</table>\n",
       "</div>"
      ],
      "text/plain": [
       "          neighborhood       mean_x       mean_y  lift_price\n",
       "                              price        price            \n",
       "0         Ciutat Vella  1343.878089  1205.523810  138.354279\n",
       "1             Eixample  1477.358783  1592.147022 -114.788239\n",
       "2               Gràcia  1209.838942  1185.434593   24.404349\n",
       "3      Horta- Guinardo   941.154696   903.453968   37.700728\n",
       "4            Les Corts  1669.705618  1610.748092   58.957526\n",
       "5           Nou Barris   842.442857   807.921053   34.521805\n",
       "6          Sant Andreu   900.389313   899.657303    0.732010\n",
       "7           Sant Martí  1433.653017  1434.876823   -1.223806\n",
       "8       Sants-Montjuïc   981.391176  1028.233898  -46.842722\n",
       "9  Sarria-Sant Gervasi  1979.086221  1910.835960   68.250262"
      ]
     },
     "execution_count": 81,
     "metadata": {},
     "output_type": "execute_result"
    }
   ],
   "source": [
    "BC['lift_price'] = BC['mean_x']-BC['mean_y']\n",
    "BC"
   ]
  },
  {
   "cell_type": "code",
   "execution_count": 255,
   "id": "buried-performance",
   "metadata": {
    "hidden": true
   },
   "outputs": [
    {
     "data": {
      "text/plain": [
       "20.00661913744394"
      ]
     },
     "execution_count": 255,
     "metadata": {},
     "output_type": "execute_result"
    }
   ],
   "source": [
    "BC['lift_price'].mean()"
   ]
  },
  {
   "cell_type": "markdown",
   "id": "small-congo",
   "metadata": {
    "heading_collapsed": true,
    "hidden": true
   },
   "source": [
    "### 4.2 Price comparison fotocasa vs lloguer."
   ]
  },
  {
   "cell_type": "code",
   "execution_count": 256,
   "id": "simplified-venice",
   "metadata": {
    "hidden": true
   },
   "outputs": [],
   "source": [
    "fotocasa_price = fotocasa.pivot_table(index = ['neighborhood'], \n",
    "                                      values = ['square_meters_price'], aggfunc = ['mean']).reset_index()"
   ]
  },
  {
   "cell_type": "code",
   "execution_count": 311,
   "id": "attempted-holly",
   "metadata": {
    "hidden": true
   },
   "outputs": [],
   "source": [
    "lloguer_price = pd.read_csv('csv/lloguer.csv')\n",
    "lloguer_price = lloguer_price.drop(['FID','ID','DISTRICTE','CONTRAC','CONT1000H','VARLLOG','LLOGTRIM','GEOMETRY'],axis=1)\n",
    "lloguer_price['DISTR_BCN']= lloguer_price['DISTR_BCN'].map({'Eixample':'Eixample','Horta-Guinardó':'Horta- Guinardo', \n",
    "                              'Sarrià-Sant Gervasi': 'Sarria-Sant Gervasi','Ciutat Vella':'Ciutat Vella','Gràcia':'Gràcia',\n",
    "                              'Sant Martí':'Sant Martí','Sants-Montjuïc':'Sants-Montjuïc',\n",
    "                             'Les Corts':'Les Corts','Sant Andreu':'Sant Andreu','Nou Barris':'Nou Barris'})\n",
    "lloguer_price['PREUM2'] = lloguer_price['LLOGUER']/lloguer_price['SUPMITJ']"
   ]
  },
  {
   "cell_type": "code",
   "execution_count": 312,
   "id": "prepared-cursor",
   "metadata": {
    "hidden": true,
    "scrolled": true
   },
   "outputs": [
    {
     "name": "stderr",
     "output_type": "stream",
     "text": [
      "/usr/local/Cellar/jupyterlab/3.0.9/libexec/lib/python3.9/site-packages/pandas/core/reshape/merge.py:648: UserWarning: merging between different levels can give an unintended result (2 levels on the left,1 on the right)\n",
      "  warnings.warn(msg, UserWarning)\n"
     ]
    }
   ],
   "source": [
    "price_comparison = pd.merge(left = fotocasa_price,\n",
    "                         right = lloguer_price,\n",
    "                         how = 'inner', \n",
    "                         left_on = 'neighborhood', \n",
    "                         right_on= 'DISTR_BCN')"
   ]
  },
  {
   "cell_type": "code",
   "execution_count": 313,
   "id": "adapted-exercise",
   "metadata": {
    "hidden": true,
    "scrolled": true
   },
   "outputs": [],
   "source": [
    "price_comparison = price_comparison.drop(['DISTR_BCN','TRAMLLOG','LLOGUER','SUPMITJ','PREUM2TRIM','VARCONTR'],axis=1)"
   ]
  },
  {
   "cell_type": "code",
   "execution_count": 316,
   "id": "advised-vegetable",
   "metadata": {
    "hidden": true
   },
   "outputs": [],
   "source": [
    "price_comparison = price_comparison.rename(columns={('mean', 'square_meters_price'):'fotocasa_price',\n",
    "                                 ('neighborhood',''):'neighborhood','PREUM2':'lloguer_price'})"
   ]
  },
  {
   "cell_type": "code",
   "execution_count": 322,
   "id": "introductory-absence",
   "metadata": {
    "hidden": true
   },
   "outputs": [],
   "source": [
    "price_comparison['diference']= round(100-((price_comparison['lloguer_price']*100)/price_comparison['fotocasa_price']),0)"
   ]
  },
  {
   "cell_type": "code",
   "execution_count": 329,
   "id": "vanilla-ordering",
   "metadata": {
    "hidden": true
   },
   "outputs": [],
   "source": [
    "price_comparison['neighborhood']=price_comparison['neighborhood'].map({'Eixample':'Eixample','Horta- Guinardo':'Horta-Guinardó', \n",
    "                              'Sarria-Sant Gervasi':'Sarrià-Sant Gervasi','Ciutat Vella':'Ciutat Vella','Gràcia':'Gràcia',\n",
    "                              'Sant Martí':'Sant Martí','Sants-Montjuïc':'Sants-Montjuïc',\n",
    "                             'Les Corts':'Les Corts','Sant Andreu':'Sant Andreu','Nou Barris':'Nou Barris'})"
   ]
  },
  {
   "cell_type": "code",
   "execution_count": 331,
   "id": "italic-nation",
   "metadata": {
    "hidden": true
   },
   "outputs": [],
   "source": [
    "price_comparison.to_csv('csv/price_comparison.csv')"
   ]
  },
  {
   "cell_type": "code",
   "execution_count": 411,
   "id": "effective-trail",
   "metadata": {
    "hidden": true
   },
   "outputs": [
    {
     "data": {
      "text/html": [
       "<div>\n",
       "<style scoped>\n",
       "    .dataframe tbody tr th:only-of-type {\n",
       "        vertical-align: middle;\n",
       "    }\n",
       "\n",
       "    .dataframe tbody tr th {\n",
       "        vertical-align: top;\n",
       "    }\n",
       "\n",
       "    .dataframe thead tr th {\n",
       "        text-align: left;\n",
       "    }\n",
       "\n",
       "    .dataframe thead tr:last-of-type th {\n",
       "        text-align: right;\n",
       "    }\n",
       "</style>\n",
       "<table border=\"1\" class=\"dataframe\">\n",
       "  <thead>\n",
       "    <tr>\n",
       "      <th></th>\n",
       "      <th>mean</th>\n",
       "    </tr>\n",
       "    <tr>\n",
       "      <th></th>\n",
       "      <th>square_meters_price</th>\n",
       "    </tr>\n",
       "    <tr>\n",
       "      <th>real_state</th>\n",
       "      <th></th>\n",
       "    </tr>\n",
       "  </thead>\n",
       "  <tbody>\n",
       "    <tr>\n",
       "      <th>apartment</th>\n",
       "      <td>28.969599</td>\n",
       "    </tr>\n",
       "    <tr>\n",
       "      <th>attic</th>\n",
       "      <td>19.902672</td>\n",
       "    </tr>\n",
       "    <tr>\n",
       "      <th>flat</th>\n",
       "      <td>15.755932</td>\n",
       "    </tr>\n",
       "    <tr>\n",
       "      <th>study</th>\n",
       "      <td>19.514038</td>\n",
       "    </tr>\n",
       "  </tbody>\n",
       "</table>\n",
       "</div>"
      ],
      "text/plain": [
       "                          mean\n",
       "           square_meters_price\n",
       "real_state                    \n",
       "apartment            28.969599\n",
       "attic                19.902672\n",
       "flat                 15.755932\n",
       "study                19.514038"
      ]
     },
     "execution_count": 411,
     "metadata": {},
     "output_type": "execute_result"
    }
   ],
   "source": [
    "fotocasa.pivot_table(index = ['real_state'], values = ['square_meters_price'], aggfunc = ['mean'])"
   ]
  },
  {
   "cell_type": "code",
   "execution_count": null,
   "id": "packed-evening",
   "metadata": {
    "hidden": true
   },
   "outputs": [],
   "source": []
  },
  {
   "cell_type": "code",
   "execution_count": 1938,
   "id": "champion-allen",
   "metadata": {
    "hidden": true,
    "scrolled": true
   },
   "outputs": [
    {
     "data": {
      "text/html": [
       "<div>\n",
       "<style scoped>\n",
       "    .dataframe tbody tr th:only-of-type {\n",
       "        vertical-align: middle;\n",
       "    }\n",
       "\n",
       "    .dataframe tbody tr th {\n",
       "        vertical-align: top;\n",
       "    }\n",
       "\n",
       "    .dataframe thead tr th {\n",
       "        text-align: left;\n",
       "    }\n",
       "\n",
       "    .dataframe thead tr:last-of-type th {\n",
       "        text-align: right;\n",
       "    }\n",
       "</style>\n",
       "<table border=\"1\" class=\"dataframe\">\n",
       "  <thead>\n",
       "    <tr>\n",
       "      <th></th>\n",
       "      <th></th>\n",
       "      <th>mean</th>\n",
       "    </tr>\n",
       "    <tr>\n",
       "      <th></th>\n",
       "      <th></th>\n",
       "      <th>square_meters_price</th>\n",
       "    </tr>\n",
       "    <tr>\n",
       "      <th>neighborhood</th>\n",
       "      <th>real_state</th>\n",
       "      <th></th>\n",
       "    </tr>\n",
       "  </thead>\n",
       "  <tbody>\n",
       "    <tr>\n",
       "      <th rowspan=\"4\" valign=\"top\">Ciutat Vella</th>\n",
       "      <th>apartment</th>\n",
       "      <td>25.818935</td>\n",
       "    </tr>\n",
       "    <tr>\n",
       "      <th>attic</th>\n",
       "      <td>23.136896</td>\n",
       "    </tr>\n",
       "    <tr>\n",
       "      <th>flat</th>\n",
       "      <td>16.933190</td>\n",
       "    </tr>\n",
       "    <tr>\n",
       "      <th>study</th>\n",
       "      <td>19.802116</td>\n",
       "    </tr>\n",
       "    <tr>\n",
       "      <th rowspan=\"4\" valign=\"top\">Eixample</th>\n",
       "      <th>apartment</th>\n",
       "      <td>33.225204</td>\n",
       "    </tr>\n",
       "    <tr>\n",
       "      <th>attic</th>\n",
       "      <td>20.405715</td>\n",
       "    </tr>\n",
       "    <tr>\n",
       "      <th>flat</th>\n",
       "      <td>15.981306</td>\n",
       "    </tr>\n",
       "    <tr>\n",
       "      <th>study</th>\n",
       "      <td>21.561559</td>\n",
       "    </tr>\n",
       "    <tr>\n",
       "      <th rowspan=\"4\" valign=\"top\">Gràcia</th>\n",
       "      <th>apartment</th>\n",
       "      <td>30.462194</td>\n",
       "    </tr>\n",
       "    <tr>\n",
       "      <th>attic</th>\n",
       "      <td>20.365350</td>\n",
       "    </tr>\n",
       "    <tr>\n",
       "      <th>flat</th>\n",
       "      <td>15.424873</td>\n",
       "    </tr>\n",
       "    <tr>\n",
       "      <th>study</th>\n",
       "      <td>18.452523</td>\n",
       "    </tr>\n",
       "    <tr>\n",
       "      <th rowspan=\"4\" valign=\"top\">Horta- Guinardo</th>\n",
       "      <th>apartment</th>\n",
       "      <td>18.615852</td>\n",
       "    </tr>\n",
       "    <tr>\n",
       "      <th>attic</th>\n",
       "      <td>13.166584</td>\n",
       "    </tr>\n",
       "    <tr>\n",
       "      <th>flat</th>\n",
       "      <td>13.128600</td>\n",
       "    </tr>\n",
       "    <tr>\n",
       "      <th>study</th>\n",
       "      <td>17.716288</td>\n",
       "    </tr>\n",
       "    <tr>\n",
       "      <th rowspan=\"4\" valign=\"top\">Les Corts</th>\n",
       "      <th>apartment</th>\n",
       "      <td>21.426308</td>\n",
       "    </tr>\n",
       "    <tr>\n",
       "      <th>attic</th>\n",
       "      <td>18.799646</td>\n",
       "    </tr>\n",
       "    <tr>\n",
       "      <th>flat</th>\n",
       "      <td>15.139123</td>\n",
       "    </tr>\n",
       "    <tr>\n",
       "      <th>study</th>\n",
       "      <td>13.117716</td>\n",
       "    </tr>\n",
       "    <tr>\n",
       "      <th rowspan=\"3\" valign=\"top\">Nou Barris</th>\n",
       "      <th>apartment</th>\n",
       "      <td>25.384615</td>\n",
       "    </tr>\n",
       "    <tr>\n",
       "      <th>attic</th>\n",
       "      <td>13.754236</td>\n",
       "    </tr>\n",
       "    <tr>\n",
       "      <th>flat</th>\n",
       "      <td>12.243987</td>\n",
       "    </tr>\n",
       "    <tr>\n",
       "      <th rowspan=\"4\" valign=\"top\">Sant Andreu</th>\n",
       "      <th>apartment</th>\n",
       "      <td>25.951816</td>\n",
       "    </tr>\n",
       "    <tr>\n",
       "      <th>attic</th>\n",
       "      <td>13.499580</td>\n",
       "    </tr>\n",
       "    <tr>\n",
       "      <th>flat</th>\n",
       "      <td>12.607824</td>\n",
       "    </tr>\n",
       "    <tr>\n",
       "      <th>study</th>\n",
       "      <td>16.325000</td>\n",
       "    </tr>\n",
       "    <tr>\n",
       "      <th rowspan=\"4\" valign=\"top\">Sant Martí</th>\n",
       "      <th>apartment</th>\n",
       "      <td>33.001068</td>\n",
       "    </tr>\n",
       "    <tr>\n",
       "      <th>attic</th>\n",
       "      <td>27.776892</td>\n",
       "    </tr>\n",
       "    <tr>\n",
       "      <th>flat</th>\n",
       "      <td>15.825835</td>\n",
       "    </tr>\n",
       "    <tr>\n",
       "      <th>study</th>\n",
       "      <td>22.220787</td>\n",
       "    </tr>\n",
       "    <tr>\n",
       "      <th rowspan=\"4\" valign=\"top\">Sants-Montjuïc</th>\n",
       "      <th>apartment</th>\n",
       "      <td>32.065966</td>\n",
       "    </tr>\n",
       "    <tr>\n",
       "      <th>attic</th>\n",
       "      <td>18.514327</td>\n",
       "    </tr>\n",
       "    <tr>\n",
       "      <th>flat</th>\n",
       "      <td>14.795736</td>\n",
       "    </tr>\n",
       "    <tr>\n",
       "      <th>study</th>\n",
       "      <td>17.531891</td>\n",
       "    </tr>\n",
       "    <tr>\n",
       "      <th rowspan=\"4\" valign=\"top\">Sarria-Sant Gervasi</th>\n",
       "      <th>apartment</th>\n",
       "      <td>23.044091</td>\n",
       "    </tr>\n",
       "    <tr>\n",
       "      <th>attic</th>\n",
       "      <td>19.737263</td>\n",
       "    </tr>\n",
       "    <tr>\n",
       "      <th>flat</th>\n",
       "      <td>16.534916</td>\n",
       "    </tr>\n",
       "    <tr>\n",
       "      <th>study</th>\n",
       "      <td>20.954568</td>\n",
       "    </tr>\n",
       "  </tbody>\n",
       "</table>\n",
       "</div>"
      ],
      "text/plain": [
       "                                              mean\n",
       "                               square_meters_price\n",
       "neighborhood        real_state                    \n",
       "Ciutat Vella        apartment            25.818935\n",
       "                    attic                23.136896\n",
       "                    flat                 16.933190\n",
       "                    study                19.802116\n",
       "Eixample            apartment            33.225204\n",
       "                    attic                20.405715\n",
       "                    flat                 15.981306\n",
       "                    study                21.561559\n",
       "Gràcia              apartment            30.462194\n",
       "                    attic                20.365350\n",
       "                    flat                 15.424873\n",
       "                    study                18.452523\n",
       "Horta- Guinardo     apartment            18.615852\n",
       "                    attic                13.166584\n",
       "                    flat                 13.128600\n",
       "                    study                17.716288\n",
       "Les Corts           apartment            21.426308\n",
       "                    attic                18.799646\n",
       "                    flat                 15.139123\n",
       "                    study                13.117716\n",
       "Nou Barris          apartment            25.384615\n",
       "                    attic                13.754236\n",
       "                    flat                 12.243987\n",
       "Sant Andreu         apartment            25.951816\n",
       "                    attic                13.499580\n",
       "                    flat                 12.607824\n",
       "                    study                16.325000\n",
       "Sant Martí          apartment            33.001068\n",
       "                    attic                27.776892\n",
       "                    flat                 15.825835\n",
       "                    study                22.220787\n",
       "Sants-Montjuïc      apartment            32.065966\n",
       "                    attic                18.514327\n",
       "                    flat                 14.795736\n",
       "                    study                17.531891\n",
       "Sarria-Sant Gervasi apartment            23.044091\n",
       "                    attic                19.737263\n",
       "                    flat                 16.534916\n",
       "                    study                20.954568"
      ]
     },
     "execution_count": 1938,
     "metadata": {},
     "output_type": "execute_result"
    }
   ],
   "source": [
    "fotocasa.pivot_table(index = ['neighborhood','real_state'], values = ['square_meters_price'], aggfunc = ['mean'])"
   ]
  }
 ],
 "metadata": {
  "kernelspec": {
   "display_name": "Python 3",
   "language": "python",
   "name": "python3"
  },
  "language_info": {
   "codemirror_mode": {
    "name": "ipython",
    "version": 3
   },
   "file_extension": ".py",
   "mimetype": "text/x-python",
   "name": "python",
   "nbconvert_exporter": "python",
   "pygments_lexer": "ipython3",
   "version": "3.9.2"
  }
 },
 "nbformat": 4,
 "nbformat_minor": 5
}
