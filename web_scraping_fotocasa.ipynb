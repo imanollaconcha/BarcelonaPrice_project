{
 "cells": [
  {
   "cell_type": "markdown",
   "id": "twelve-wallet",
   "metadata": {},
   "source": [
    "# Web scraping"
   ]
  },
  {
   "cell_type": "code",
   "execution_count": 53,
   "id": "amazing-consultation",
   "metadata": {},
   "outputs": [],
   "source": [
    "from time import sleep\n",
    "import pandas as pd\n",
    "import numpy as np\n",
    "from selenium import webdriver\n",
    "from bs4 import BeautifulSoup\n",
    "from random import randint\n",
    "import requests"
   ]
  },
  {
   "cell_type": "markdown",
   "id": "chief-particle",
   "metadata": {},
   "source": [
    "## Fotocasa Main web"
   ]
  },
  {
   "cell_type": "code",
   "execution_count": 54,
   "id": "connected-fraction",
   "metadata": {},
   "outputs": [],
   "source": [
    "import time\n",
    "from selenium.webdriver.common.keys import Keys\n",
    "from selenium import webdriver\n",
    "from bs4 import BeautifulSoup\n",
    "from selenium.webdriver.common.action_chains import ActionChains"
   ]
  },
  {
   "cell_type": "code",
   "execution_count": 5,
   "id": "radio-lancaster",
   "metadata": {},
   "outputs": [],
   "source": [
    "url = 'https://www.fotocasa.es/es/alquiler/viviendas/barcelona-capital/todas-las-zonas/l?combinedLocationIds=724%2C9%2C8%2C232%2C376%2C8019%2C0%2C0%2C0&latitude=41.3854&longitude=2.1775'\n",
    "path = '/Users/Imanol/GDrive/ironhack/projects/Final_project/chromedriver'"
   ]
  },
  {
   "cell_type": "code",
   "execution_count": 107,
   "id": "blind-conjunction",
   "metadata": {},
   "outputs": [],
   "source": [
    "driver = webdriver.Chrome(path)\n",
    "\n",
    "driver.get(url)"
   ]
  },
  {
   "cell_type": "markdown",
   "id": "descending-correction",
   "metadata": {},
   "source": [
    "### To get features and links"
   ]
  },
  {
   "cell_type": "code",
   "execution_count": 55,
   "id": "reverse-shield",
   "metadata": {},
   "outputs": [],
   "source": [
    "all_link = []\n",
    "all_prices = []\n",
    "all_features = []\n",
    "all_address = []\n",
    "\n",
    "for i in range(320):\n",
    "    \n",
    "    start_at= str(i)\n",
    "    url = 'https://www.fotocasa.es/es/alquiler/viviendas/barcelona-capital/todas-las-zonas/l/'+ start_at +'?combinedLocationIds=724%2C9%2C8%2C232%2C376%2C8019%2C0%2C0%2C0&latitude=41.3854&longitude=2.1775'\n",
    "    path = '/Users/Imanol/GDrive/ironhack/projects/Final_project/chromedriver'\n",
    "    driver = webdriver.Chrome(path)\n",
    "    driver.get(url)\n",
    "    \n",
    "    for i in range(19):\n",
    "        \n",
    "        html_txt = driver.page_source\n",
    "        soup = BeautifulSoup(html_txt)\n",
    "        \n",
    "        link_list = []\n",
    "        prices_list = []\n",
    "        features_list = []\n",
    "        address_list = []\n",
    "    \n",
    "        links = soup.find_all('a', class_='re-Card-link')\n",
    "        prices = soup.find_all('div', class_='re-Card-priceComposite')\n",
    "        features = soup.find_all('div', class_=\"re-CardFeatures-wrapper\")\n",
    "        address = soup.find_all('div', class_=\"re-Card-wrapperTitle\")\n",
    "        \n",
    "        \n",
    "        for link in links:\n",
    "             link_list.append(link['href'])\n",
    "        for price in prices:\n",
    "            prices_list.append(price.find('span').text)\n",
    "        for feature in features:\n",
    "            features_list.append(feature.get_text())\n",
    "        for addre in address:\n",
    "            address_list.append(addre.get_text())\n",
    "        \n",
    "        ActionChains(driver).key_down(Keys.PAGE_DOWN).key_up(Keys.PAGE_DOWN).perform()\n",
    "        time.sleep(0.8)\n",
    "        \n",
    "    wait_time = randint(2,8)\n",
    "    sleep(wait_time)\n",
    "    driver.close()\n",
    "    \n",
    "    all_link.append(link_list)\n",
    "    all_prices.append(prices_list)\n",
    "    all_features.append(features_list)\n",
    "    all_address.append(address_list)"
   ]
  },
  {
   "cell_type": "markdown",
   "id": "attended-trance",
   "metadata": {},
   "source": [
    "### Building the dataFrame"
   ]
  },
  {
   "cell_type": "code",
   "execution_count": 58,
   "id": "tutorial-revolution",
   "metadata": {},
   "outputs": [],
   "source": [
    "def flatten(input_list):\n",
    "  return [item for sublist in input_list for item in sublist]"
   ]
  },
  {
   "cell_type": "code",
   "execution_count": 64,
   "id": "confused-trick",
   "metadata": {},
   "outputs": [
    {
     "data": {
      "text/plain": [
       "8439"
      ]
     },
     "execution_count": 64,
     "metadata": {},
     "output_type": "execute_result"
    }
   ],
   "source": [
    "len(all_link1)"
   ]
  },
  {
   "cell_type": "code",
   "execution_count": 66,
   "id": "armed-moldova",
   "metadata": {},
   "outputs": [],
   "source": [
    "all_link1 = flatten(all_link)\n",
    "all_prices1 = flatten(all_prices)\n",
    "all_features1 = flatten(all_features)\n",
    "all_address1 = flatten(all_address)"
   ]
  },
  {
   "cell_type": "code",
   "execution_count": 73,
   "id": "medieval-hanging",
   "metadata": {},
   "outputs": [],
   "source": [
    "fotocasa_links = pd.DataFrame(all_link1)"
   ]
  },
  {
   "cell_type": "code",
   "execution_count": 68,
   "id": "small-wellington",
   "metadata": {
    "scrolled": true
   },
   "outputs": [],
   "source": [
    "fotocasa = pd.DataFrame({'description':all_features1,'address':all_address1,'price':all_prices1})"
   ]
  },
  {
   "cell_type": "code",
   "execution_count": 75,
   "id": "coated-credits",
   "metadata": {},
   "outputs": [
    {
     "data": {
      "text/plain": [
       "(8439, 1)"
      ]
     },
     "execution_count": 75,
     "metadata": {},
     "output_type": "execute_result"
    }
   ],
   "source": [
    "fotocasa_links.shape"
   ]
  },
  {
   "cell_type": "code",
   "execution_count": 70,
   "id": "duplicate-appearance",
   "metadata": {},
   "outputs": [
    {
     "data": {
      "text/plain": [
       "(8361, 3)"
      ]
     },
     "execution_count": 70,
     "metadata": {},
     "output_type": "execute_result"
    }
   ],
   "source": [
    "fotocasa.shape"
   ]
  },
  {
   "cell_type": "code",
   "execution_count": 76,
   "id": "designing-accommodation",
   "metadata": {},
   "outputs": [],
   "source": [
    "# To have the csv\n",
    "fotocasa.to_csv('fotocasa.csv')\n",
    "fotocasa_links.to_csv('fotocasa_links.csv')"
   ]
  }
 ],
 "metadata": {
  "kernelspec": {
   "display_name": "Python 3",
   "language": "python",
   "name": "python3"
  },
  "language_info": {
   "codemirror_mode": {
    "name": "ipython",
    "version": 3
   },
   "file_extension": ".py",
   "mimetype": "text/x-python",
   "name": "python",
   "nbconvert_exporter": "python",
   "pygments_lexer": "ipython3",
   "version": "3.9.2"
  }
 },
 "nbformat": 4,
 "nbformat_minor": 5
}
