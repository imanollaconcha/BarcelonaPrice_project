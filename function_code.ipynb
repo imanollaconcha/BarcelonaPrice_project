{
 "cells": [
  {
   "cell_type": "markdown",
   "id": "violent-factor",
   "metadata": {},
   "source": [
    "# How much do you pay, and how much you should pay\n",
    "Just answering 3 questions, I'll give you the actual market price of your real state and I will tell you how mucho you sould pay for it, supposing that the flat is in a standard condicitions, like the most flats in Barcelona.\n",
    "Also I will give you the maximun and minimun price that you should pay.\n",
    "\n",
    "Maximinun price: The price in case the real state is in really good conditions.\n",
    "\n",
    "Minimun price: The price in case the real state is in bad conditions."
   ]
  },
  {
   "cell_type": "code",
   "execution_count": 23,
   "id": "hollywood-broadcasting",
   "metadata": {
    "scrolled": false
   },
   "outputs": [
    {
     "name": "stdout",
     "output_type": "stream",
     "text": [
      "Where do you live?\n",
      "With your postal code is okey.  08001\n",
      "\n",
      "And is it a flat, apartment, attic or a study?  attic\n",
      "\n",
      "Do you know how many m2 does it have?\n",
      "If not just write I dont know (idk)\n",
      "I will give you the price per m2.\n",
      "60\n",
      "\n",
      "This is the price in your postal code area, 8001\n"
     ]
    },
    {
     "data": {
      "text/html": [
       "<div>\n",
       "<style scoped>\n",
       "    .dataframe tbody tr th:only-of-type {\n",
       "        vertical-align: middle;\n",
       "    }\n",
       "\n",
       "    .dataframe tbody tr th {\n",
       "        vertical-align: top;\n",
       "    }\n",
       "\n",
       "    .dataframe thead th {\n",
       "        text-align: right;\n",
       "    }\n",
       "</style>\n",
       "<table border=\"1\" class=\"dataframe\">\n",
       "  <thead>\n",
       "    <tr style=\"text-align: right;\">\n",
       "      <th></th>\n",
       "      <th>€</th>\n",
       "    </tr>\n",
       "  </thead>\n",
       "  <tbody>\n",
       "    <tr>\n",
       "      <th>Market price</th>\n",
       "      <td>1386.0</td>\n",
       "    </tr>\n",
       "    <tr>\n",
       "      <th>Lloguer index price</th>\n",
       "      <td>798.0</td>\n",
       "    </tr>\n",
       "    <tr>\n",
       "      <th>Max price</th>\n",
       "      <td>857.0</td>\n",
       "    </tr>\n",
       "    <tr>\n",
       "      <th>Min price</th>\n",
       "      <td>741.0</td>\n",
       "    </tr>\n",
       "  </tbody>\n",
       "</table>\n",
       "</div>"
      ],
      "text/plain": [
       "                          €\n",
       "Market price         1386.0\n",
       "Lloguer index price   798.0\n",
       "Max price             857.0\n",
       "Min price             741.0"
      ]
     },
     "metadata": {},
     "output_type": "display_data"
    }
   ],
   "source": [
    "RealStatePrice()"
   ]
  },
  {
   "cell_type": "markdown",
   "id": "varied-favorite",
   "metadata": {
    "heading_collapsed": true
   },
   "source": [
    "### Import all files"
   ]
  },
  {
   "cell_type": "code",
   "execution_count": 1,
   "id": "strong-tomorrow",
   "metadata": {
    "hidden": true
   },
   "outputs": [],
   "source": [
    "import pandas as pd\n",
    "import numpy as np\n",
    "import time\n",
    "import re"
   ]
  },
  {
   "cell_type": "code",
   "execution_count": 2,
   "id": "technical-incentive",
   "metadata": {
    "hidden": true
   },
   "outputs": [],
   "source": [
    "#Import postal codes\n",
    "CP = pd.read_csv('csv/postal_codes.csv')\n",
    "CP = CP.drop(['Unnamed: 0'],axis=1)"
   ]
  },
  {
   "cell_type": "code",
   "execution_count": 3,
   "id": "identical-edition",
   "metadata": {
    "hidden": true
   },
   "outputs": [],
   "source": [
    "#Import fotocasa dataset\n",
    "fotocasa = pd.read_csv('csv/fotocasa_clean.csv')\n",
    "fotocasa_pivot = fotocasa.pivot_table(index = ['neighborhood','real_state'],\n",
    "                                      values = ['square_meters_price'], aggfunc = ['mean']).reset_index()"
   ]
  },
  {
   "cell_type": "code",
   "execution_count": 4,
   "id": "important-sheffield",
   "metadata": {
    "hidden": true
   },
   "outputs": [],
   "source": [
    "#Import lloguer dataset\n",
    "lloguer = pd.read_csv('csv/lloguer.csv')\n",
    "lloguer = lloguer.drop(['FID','ID','DISTRICTE','CONTRAC','CONT1000H','VARLLOG','LLOGTRIM','GEOMETRY'],axis=1)\n",
    "lloguer['DISTR_BCN']= lloguer['DISTR_BCN'].map({'Eixample':'Eixample','Horta-Guinardó':'Horta- Guinardo', \n",
    "                              'Sarrià-Sant Gervasi': 'Sarria-Sant Gervasi','Ciutat Vella':'Ciutat Vella','Gràcia':'Gràcia',\n",
    "                              'Sant Martí':'Sant Martí','Sants-Montjuïc':'Sants-Montjuïc',\n",
    "                             'Les Corts':'Les Corts','Sant Andreu':'Sant Andreu','Nou Barris':'Nou Barris'})"
   ]
  },
  {
   "cell_type": "markdown",
   "id": "respiratory-outreach",
   "metadata": {
    "heading_collapsed": true
   },
   "source": [
    "### Cleaning the files"
   ]
  },
  {
   "cell_type": "code",
   "execution_count": 5,
   "id": "metallic-receptor",
   "metadata": {
    "hidden": true
   },
   "outputs": [],
   "source": [
    "lloguer['max_price'] = lloguer['TRAMLLOG'].str.split('<').str[-1]\n",
    "lloguer['max_price'] = list(map(lambda x:re.findall('\\d+',x),lloguer['max_price'] ))\n",
    "lloguer['min_price'] = lloguer['TRAMLLOG'].str.split('<').str[0]\n",
    "lloguer['min_price'] = list(map(lambda x:re.findall('[\\d\\s]+i',x),lloguer['min_price'] ))"
   ]
  },
  {
   "cell_type": "code",
   "execution_count": 6,
   "id": "expensive-karma",
   "metadata": {
    "hidden": true
   },
   "outputs": [],
   "source": [
    "def fill_space(row):\n",
    "    if row == []:\n",
    "        return ['0']\n",
    "    else:\n",
    "        return row"
   ]
  },
  {
   "cell_type": "code",
   "execution_count": 7,
   "id": "experimental-anchor",
   "metadata": {
    "hidden": true
   },
   "outputs": [],
   "source": [
    "def list_clean(row):\n",
    "    return row[0]"
   ]
  },
  {
   "cell_type": "code",
   "execution_count": 8,
   "id": "vocational-compensation",
   "metadata": {
    "hidden": true
   },
   "outputs": [],
   "source": [
    "lloguer['min_price'] = lloguer['min_price'].apply(fill_space)\n",
    "lloguer['max_price'] = lloguer['max_price'].apply(list_clean)\n",
    "lloguer['min_price'] = lloguer['min_price'].apply(list_clean)\n",
    "lloguer['min_price'] = list(map(lambda x:re.findall('\\d+',x),lloguer['min_price'] ))\n",
    "lloguer['min_price'] = lloguer['min_price'].apply(list_clean)"
   ]
  },
  {
   "cell_type": "code",
   "execution_count": 9,
   "id": "loved-blocking",
   "metadata": {
    "hidden": true
   },
   "outputs": [],
   "source": [
    "for row in range(len(lloguer['max_price'])):\n",
    "    if lloguer.loc[row,'min_price']== '0':\n",
    "        lloguer.loc[row,'min_price'] = lloguer.loc[row,'max_price'] \n",
    "        lloguer.loc[row,'max_price'] = None"
   ]
  },
  {
   "cell_type": "code",
   "execution_count": 10,
   "id": "similar-spray",
   "metadata": {
    "hidden": true
   },
   "outputs": [],
   "source": [
    "lloguer['max_price'] = pd.to_numeric(lloguer['max_price'])\n",
    "lloguer['min_price'] = pd.to_numeric(lloguer['min_price'])\n",
    "lloguer['max_price_m2'] = lloguer['max_price']/lloguer['SUPMITJ']\n",
    "lloguer['min_price_m2'] = lloguer['min_price']/lloguer['SUPMITJ']\n",
    "lloguer['PREUM2'] = lloguer['LLOGUER']/lloguer['SUPMITJ']"
   ]
  },
  {
   "cell_type": "code",
   "execution_count": 11,
   "id": "cathedral-copper",
   "metadata": {
    "hidden": true
   },
   "outputs": [],
   "source": [
    "lloguer['max_price_m2'] = lloguer['PREUM2']-((int(89)-lloguer['PREUM2'])/int(73.63))*(int(1)*int(0.7))+ 1"
   ]
  },
  {
   "cell_type": "code",
   "execution_count": 12,
   "id": "presidential-nitrogen",
   "metadata": {
    "hidden": true,
    "scrolled": false
   },
   "outputs": [
    {
     "data": {
      "text/html": [
       "<div>\n",
       "<style scoped>\n",
       "    .dataframe tbody tr th:only-of-type {\n",
       "        vertical-align: middle;\n",
       "    }\n",
       "\n",
       "    .dataframe tbody tr th {\n",
       "        vertical-align: top;\n",
       "    }\n",
       "\n",
       "    .dataframe thead th {\n",
       "        text-align: right;\n",
       "    }\n",
       "</style>\n",
       "<table border=\"1\" class=\"dataframe\">\n",
       "  <thead>\n",
       "    <tr style=\"text-align: right;\">\n",
       "      <th></th>\n",
       "      <th>DISTR_BCN</th>\n",
       "      <th>VARCONTR</th>\n",
       "      <th>TRAMLLOG</th>\n",
       "      <th>LLOGUER</th>\n",
       "      <th>SUPMITJ</th>\n",
       "      <th>PREUM2</th>\n",
       "      <th>PREUM2TRIM</th>\n",
       "      <th>max_price</th>\n",
       "      <th>min_price</th>\n",
       "      <th>max_price_m2</th>\n",
       "      <th>min_price_m2</th>\n",
       "    </tr>\n",
       "  </thead>\n",
       "  <tbody>\n",
       "    <tr>\n",
       "      <th>0</th>\n",
       "      <td>Ciutat Vella</td>\n",
       "      <td>-23.811620</td>\n",
       "      <td>&gt; 850 i &lt;= 1000 euros/mes</td>\n",
       "      <td>913.664714</td>\n",
       "      <td>68.796053</td>\n",
       "      <td>13.280772</td>\n",
       "      <td>13.729155</td>\n",
       "      <td>1000.0</td>\n",
       "      <td>850</td>\n",
       "      <td>14.280772</td>\n",
       "      <td>12.355360</td>\n",
       "    </tr>\n",
       "    <tr>\n",
       "      <th>1</th>\n",
       "      <td>Eixample</td>\n",
       "      <td>-22.967073</td>\n",
       "      <td>&gt; 1000 euros/mes</td>\n",
       "      <td>1075.436849</td>\n",
       "      <td>80.075509</td>\n",
       "      <td>13.430284</td>\n",
       "      <td>13.767873</td>\n",
       "      <td>NaN</td>\n",
       "      <td>1000</td>\n",
       "      <td>14.430284</td>\n",
       "      <td>12.488213</td>\n",
       "    </tr>\n",
       "    <tr>\n",
       "      <th>2</th>\n",
       "      <td>Sants-Montjuïc</td>\n",
       "      <td>-19.210123</td>\n",
       "      <td>&gt; 750 i &lt;= 850 euros/mes</td>\n",
       "      <td>846.878075</td>\n",
       "      <td>64.607409</td>\n",
       "      <td>13.108064</td>\n",
       "      <td>13.374586</td>\n",
       "      <td>850.0</td>\n",
       "      <td>750</td>\n",
       "      <td>14.108064</td>\n",
       "      <td>11.608576</td>\n",
       "    </tr>\n",
       "    <tr>\n",
       "      <th>3</th>\n",
       "      <td>Les Corts</td>\n",
       "      <td>-19.913043</td>\n",
       "      <td>&gt; 1000 euros/mes</td>\n",
       "      <td>1112.496379</td>\n",
       "      <td>79.295508</td>\n",
       "      <td>14.029753</td>\n",
       "      <td>14.272469</td>\n",
       "      <td>NaN</td>\n",
       "      <td>1000</td>\n",
       "      <td>15.029753</td>\n",
       "      <td>12.611055</td>\n",
       "    </tr>\n",
       "    <tr>\n",
       "      <th>4</th>\n",
       "      <td>Sarria-Sant Gervasi</td>\n",
       "      <td>-22.001871</td>\n",
       "      <td>&gt; 1000 euros/mes</td>\n",
       "      <td>1305.726906</td>\n",
       "      <td>90.865045</td>\n",
       "      <td>14.369958</td>\n",
       "      <td>15.100435</td>\n",
       "      <td>NaN</td>\n",
       "      <td>1000</td>\n",
       "      <td>15.369958</td>\n",
       "      <td>11.005332</td>\n",
       "    </tr>\n",
       "    <tr>\n",
       "      <th>5</th>\n",
       "      <td>Gràcia</td>\n",
       "      <td>-23.621738</td>\n",
       "      <td>&gt; 850 i &lt;= 1000 euros/mes</td>\n",
       "      <td>950.362510</td>\n",
       "      <td>69.741999</td>\n",
       "      <td>13.626832</td>\n",
       "      <td>14.202070</td>\n",
       "      <td>1000.0</td>\n",
       "      <td>850</td>\n",
       "      <td>14.626832</td>\n",
       "      <td>12.187778</td>\n",
       "    </tr>\n",
       "    <tr>\n",
       "      <th>6</th>\n",
       "      <td>Horta- Guinardo</td>\n",
       "      <td>-23.812785</td>\n",
       "      <td>&gt; 750 i &lt;= 850 euros/mes</td>\n",
       "      <td>799.317279</td>\n",
       "      <td>65.082817</td>\n",
       "      <td>12.281541</td>\n",
       "      <td>12.386828</td>\n",
       "      <td>850.0</td>\n",
       "      <td>750</td>\n",
       "      <td>13.281541</td>\n",
       "      <td>11.523779</td>\n",
       "    </tr>\n",
       "    <tr>\n",
       "      <th>7</th>\n",
       "      <td>Nou Barris</td>\n",
       "      <td>-20.907114</td>\n",
       "      <td>&lt;= 750 euros/mes</td>\n",
       "      <td>705.505805</td>\n",
       "      <td>62.181034</td>\n",
       "      <td>11.345997</td>\n",
       "      <td>11.491785</td>\n",
       "      <td>NaN</td>\n",
       "      <td>750</td>\n",
       "      <td>12.345997</td>\n",
       "      <td>12.061556</td>\n",
       "    </tr>\n",
       "    <tr>\n",
       "      <th>8</th>\n",
       "      <td>Sant Andreu</td>\n",
       "      <td>-17.435207</td>\n",
       "      <td>&gt; 750 i &lt;= 850 euros/mes</td>\n",
       "      <td>797.823836</td>\n",
       "      <td>67.134749</td>\n",
       "      <td>11.883918</td>\n",
       "      <td>12.188302</td>\n",
       "      <td>850.0</td>\n",
       "      <td>750</td>\n",
       "      <td>12.883918</td>\n",
       "      <td>11.171562</td>\n",
       "    </tr>\n",
       "    <tr>\n",
       "      <th>9</th>\n",
       "      <td>Sant Martí</td>\n",
       "      <td>-17.403460</td>\n",
       "      <td>&gt; 850 i &lt;= 1000 euros/mes</td>\n",
       "      <td>929.907692</td>\n",
       "      <td>70.261047</td>\n",
       "      <td>13.235039</td>\n",
       "      <td>13.392316</td>\n",
       "      <td>1000.0</td>\n",
       "      <td>850</td>\n",
       "      <td>14.235039</td>\n",
       "      <td>12.097742</td>\n",
       "    </tr>\n",
       "  </tbody>\n",
       "</table>\n",
       "</div>"
      ],
      "text/plain": [
       "             DISTR_BCN   VARCONTR                   TRAMLLOG      LLOGUER  \\\n",
       "0         Ciutat Vella -23.811620  > 850 i <= 1000 euros/mes   913.664714   \n",
       "1             Eixample -22.967073           > 1000 euros/mes  1075.436849   \n",
       "2       Sants-Montjuïc -19.210123   > 750 i <= 850 euros/mes   846.878075   \n",
       "3            Les Corts -19.913043           > 1000 euros/mes  1112.496379   \n",
       "4  Sarria-Sant Gervasi -22.001871           > 1000 euros/mes  1305.726906   \n",
       "5               Gràcia -23.621738  > 850 i <= 1000 euros/mes   950.362510   \n",
       "6      Horta- Guinardo -23.812785   > 750 i <= 850 euros/mes   799.317279   \n",
       "7           Nou Barris -20.907114           <= 750 euros/mes   705.505805   \n",
       "8          Sant Andreu -17.435207   > 750 i <= 850 euros/mes   797.823836   \n",
       "9           Sant Martí -17.403460  > 850 i <= 1000 euros/mes   929.907692   \n",
       "\n",
       "     SUPMITJ     PREUM2  PREUM2TRIM  max_price  min_price  max_price_m2  \\\n",
       "0  68.796053  13.280772   13.729155     1000.0        850     14.280772   \n",
       "1  80.075509  13.430284   13.767873        NaN       1000     14.430284   \n",
       "2  64.607409  13.108064   13.374586      850.0        750     14.108064   \n",
       "3  79.295508  14.029753   14.272469        NaN       1000     15.029753   \n",
       "4  90.865045  14.369958   15.100435        NaN       1000     15.369958   \n",
       "5  69.741999  13.626832   14.202070     1000.0        850     14.626832   \n",
       "6  65.082817  12.281541   12.386828      850.0        750     13.281541   \n",
       "7  62.181034  11.345997   11.491785        NaN        750     12.345997   \n",
       "8  67.134749  11.883918   12.188302      850.0        750     12.883918   \n",
       "9  70.261047  13.235039   13.392316     1000.0        850     14.235039   \n",
       "\n",
       "   min_price_m2  \n",
       "0     12.355360  \n",
       "1     12.488213  \n",
       "2     11.608576  \n",
       "3     12.611055  \n",
       "4     11.005332  \n",
       "5     12.187778  \n",
       "6     11.523779  \n",
       "7     12.061556  \n",
       "8     11.171562  \n",
       "9     12.097742  "
      ]
     },
     "execution_count": 12,
     "metadata": {},
     "output_type": "execute_result"
    }
   ],
   "source": [
    "lloguer"
   ]
  },
  {
   "cell_type": "markdown",
   "id": "warming-duration",
   "metadata": {
    "heading_collapsed": true
   },
   "source": [
    "### Fuction"
   ]
  },
  {
   "cell_type": "code",
   "execution_count": 17,
   "id": "broad-rugby",
   "metadata": {
    "hidden": true
   },
   "outputs": [],
   "source": [
    "def RealStatePrice():\n",
    "    adress = input(\"Where do you live?\\nWith your postal code is okey.  \")\n",
    "    adress = int(adress)\n",
    "    neighborhood = CP[CP['CP']==adress].iloc[0,1]\n",
    "    time.sleep(0.6)\n",
    "    \n",
    "    real_state = input('\\nAnd is it a flat, apartment, attic or a study?  ')\n",
    "    time.sleep(0.6)\n",
    "    \n",
    "    m2 = input('\\nDo you know how many m2 does it have?\\nIf not just write I dont know (idk)'\n",
    "               '\\nI will give you the price per m2.\\n')\n",
    "    time.sleep(0.6)\n",
    "    \n",
    "    market_price = [round(fotocasa_pivot[(fotocasa_pivot['neighborhood']==neighborhood) & \n",
    "                         (fotocasa_pivot['real_state']==real_state)].iloc[0,2],1)]\n",
    "    lloguer_price = [round(lloguer[lloguer['DISTR_BCN']==neighborhood].iloc[0,5],1)]\n",
    "    \n",
    "    \n",
    "    if m2.isnumeric():\n",
    "        m2= int(m2)\n",
    "        state_market_price = [round(market_price[0]*m2,0)]\n",
    "        state_lloguer_price = [round(lloguer_price[0]*m2,0)]\n",
    "        \n",
    "        max_m2_price = [lloguer[lloguer['DISTR_BCN']==neighborhood].iloc[0,9]]\n",
    "        min_m2_price = [lloguer[lloguer['DISTR_BCN']==neighborhood].iloc[0,10]]\n",
    "        \n",
    "        max_pay = [round(max_m2_price[0]*m2,0)]\n",
    "        min_pay = [round(min_m2_price[0]*m2,0)]\n",
    "        \n",
    "        time.sleep(0.6)\n",
    "        \n",
    "        print('\\nThis is the price in your postal code area,',adress)\n",
    "        state_price = pd.DataFrame({'Market price':state_market_price,\n",
    "                              'Lloguer index price':state_lloguer_price,'Max price':max_pay,\n",
    "                           'Min price':min_pay}).T\n",
    "        state_price.columns = ['€']\n",
    "        display(state_price)\n",
    "        \n",
    "    else:\n",
    "        print('\\nYou can check it here,\\nhttps://www1.sedecatastro.gob.es/Cartografia/mapa.aspx?buscar=S'\n",
    "        '\\njust introducing your address.\\n')\n",
    "        time.sleep(2)\n",
    "        \n",
    "        max_pay_m2 = [lloguer[lloguer['DISTR_BCN']==neighborhood].iloc[0,9]]\n",
    "        min_pay_m2 = [lloguer[lloguer['DISTR_BCN']==neighborhood].iloc[0,10]]\n",
    "        \n",
    "        print('This is the price in your postal code area,',adress)\n",
    "        m2_price = pd.DataFrame({'Market price':market_price,\n",
    "                              'Lloguer index price':lloguer_price,\n",
    "                                 'Max price':max_pay_m2,\n",
    "                           'Min price':min_pay_m2}).T\n",
    "        \n",
    "        m2_price.columns = ['€/m2']\n",
    "        display(m2_price)"
   ]
  }
 ],
 "metadata": {
  "kernelspec": {
   "display_name": "Python 3",
   "language": "python",
   "name": "python3"
  },
  "language_info": {
   "codemirror_mode": {
    "name": "ipython",
    "version": 3
   },
   "file_extension": ".py",
   "mimetype": "text/x-python",
   "name": "python",
   "nbconvert_exporter": "python",
   "pygments_lexer": "ipython3",
   "version": "3.9.2"
  }
 },
 "nbformat": 4,
 "nbformat_minor": 5
}
